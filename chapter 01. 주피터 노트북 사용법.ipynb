{
 "cells": [
  {
   "cell_type": "markdown",
   "metadata": {},
   "source": [
    "*cool*\n"
   ]
  },
  {
   "cell_type": "code",
   "execution_count": 5,
   "metadata": {},
   "outputs": [
    {
     "name": "stdout",
     "output_type": "stream",
     "text": [
      "10\n"
     ]
    }
   ],
   "source": [
    "a = 10 \n",
    "print(a)\n"
   ]
  },
  {
   "cell_type": "markdown",
   "metadata": {},
   "source": [
    "# hello python\n",
    "## hello python\n",
    "### hello python\n",
    "#### hello python"
   ]
  },
  {
   "cell_type": "markdown",
   "metadata": {},
   "source": [
    "**python** is really cool\n",
    "- python\n",
    "  - pandae\n",
    "    - depth 1\n",
    "    - depth 2\n",
    "  - sumpy\n",
    "-java\n",
    "-c++\n",
    "\n",
    "1. python\n",
    "2. java\n",
    "3. c++\n",
    "\n",
    "> 파이썬은 재밌다고 하더라.. \n",
    "\n",
    "\n",
    "y = 3x \n",
    "\n",
    "$y= 3x$\n",
    "\n",
    "```python\n",
    "\n",
    "a= 10\n",
    "\n",
    "print(a)\n",
    "```\n",
    "파이썬 공식홈페이지\n",
    "\n",
    "[구글 공식 홈페이지](http://google.com)\n",
    "\n",
    "\n"
   ]
  }
 ],
 "metadata": {
  "kernelspec": {
   "display_name": "Python 3",
   "language": "python",
   "name": "python3"
  },
  "language_info": {
   "codemirror_mode": {
    "name": "ipython",
    "version": 3
   },
   "file_extension": ".py",
   "mimetype": "text/x-python",
   "name": "python",
   "nbconvert_exporter": "python",
   "pygments_lexer": "ipython3",
   "version": "3.7.4"
  }
 },
 "nbformat": 4,
 "nbformat_minor": 2
}
